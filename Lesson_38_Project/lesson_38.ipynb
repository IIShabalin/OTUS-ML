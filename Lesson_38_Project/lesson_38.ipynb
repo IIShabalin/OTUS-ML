{
 "cells": [
  {
   "cell_type": "markdown",
   "metadata": {},
   "source": [
    "### Выбор темы проекта\n",
    "\n",
    "Просмотреть Kaggle.com\n",
    "\n",
    "Примеры работ предшественников:\n",
    "* https://habr.com/ru/company/otus/blog/503398/\n",
    "* https://habr.com/ru/company/otus/blog/648891/\n",
    "* https://habr.com/ru/company/otus/blog/649533/\n",
    "* https://habr.com/ru/company/otus/blog/650807/\n",
    "* https://habr.com/ru/company/otus/blog/675954/\n",
    "* https://habr.com/ru/company/otus/blog/672450/\n",
    "* https://habr.com/ru/company/otus/blog/651895/\n",
    "* https://habr.com/ru/company/otus/blog/564806/\n",
    "* https://habr.com/ru/company/otus/blog/504806/\n",
    "* https://habr.com/ru/company/otus/blog/675898/\n",
    "* https://habr.com/ru/companies/otus/articles/904352/\n"
   ]
  }
 ],
 "metadata": {
  "language_info": {
   "name": "python"
  }
 },
 "nbformat": 4,
 "nbformat_minor": 2
}
