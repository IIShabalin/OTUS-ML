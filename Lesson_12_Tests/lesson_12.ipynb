{
 "cells": [
  {
   "cell_type": "markdown",
   "metadata": {},
   "source": [
    "### Тесты\n",
    "\n",
    "- Проверка ожиданий при помощи оператора `assert`\n",
    "- библиотеки\n",
    "  - `unittest` - встроена в Python\n",
    "  - `pytest`\n",
    "- `@pytest.fixture` - декоратор; позволяет объявить функцию, которую можно передать в тест; в функцию выносится код, общий для нескольких тестов;\n",
    "- `@pytest.mark.parameterize(<agrument names list>, <data>)` - декоратор; объявляет параметры для теста (как в JUnit);\n",
    "- `@pytest.mark.skip` - пропуск теста"
   ]
  }
 ],
 "metadata": {
  "kernelspec": {
   "display_name": ".venv",
   "language": "python",
   "name": "python3"
  },
  "language_info": {
   "name": "python",
   "version": "3.12.3"
  }
 },
 "nbformat": 4,
 "nbformat_minor": 2
}
