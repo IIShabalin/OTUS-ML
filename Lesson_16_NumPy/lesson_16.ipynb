{
 "cells": [
  {
   "cell_type": "markdown",
   "metadata": {},
   "source": [
    "### Основы NumPy\n",
    "\n",
    "* https://rusvectores.org/en\n",
    "* https://rusvectores.org/ru\n",
    "\n",
    "embedding - код для слова\n"
   ]
  }
 ],
 "metadata": {
  "language_info": {
   "name": "python"
  }
 },
 "nbformat": 4,
 "nbformat_minor": 2
}
