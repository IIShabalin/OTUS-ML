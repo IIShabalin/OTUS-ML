{
 "cells": [
  {
   "cell_type": "markdown",
   "metadata": {},
   "source": [
    "### Основы NumPy\n",
    "\n",
    "* https://rusvectores.org/en\n",
    "* https://rusvectores.org/ru\n",
    "\n",
    "embedding - код для слова\n",
    "\n",
    "Массивы NumPy: `numpy.ndarray`\n",
    "* быстрее, чем списки Python\n",
    "* потребляют меньше памяти\n",
    "\n",
    "ndarray.size: размер массива\n",
    "\n",
    "ndarray.itemsize: размер элемента массива\n",
    "\n",
    "ndarray.ndim: размерность массива\n",
    "\n",
    "ndarray.shape: количество списков, количество элементов в списке, и т.д.\n",
    "\n",
    "\n",
    "zeroes()\n",
    "\n",
    "ones()\n",
    "\n",
    "zeroes_like()\n",
    "\n",
    "arange()\n",
    "\n",
    "linspace() - равно распределённые числа в диапазоне\n",
    "\n",
    "logspace() - распределение с логарифмически увеличиваемсимся расстоянием\n",
    "\n",
    "reshape() - изменение размерности\n",
    "\n",
    "flatten() - разновидность shape(); превращает в размерность 1\n",
    "\n",
    "\n",
    "Поддерживаются slice-ы."
   ]
  }
 ],
 "metadata": {
  "language_info": {
   "name": "python"
  }
 },
 "nbformat": 4,
 "nbformat_minor": 2
}
