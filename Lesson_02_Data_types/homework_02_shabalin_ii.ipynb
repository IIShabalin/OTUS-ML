{
 "cells": [
  {
   "cell_type": "markdown",
   "metadata": {},
   "source": [
    "##### 1) Пользователь вводит пятизначное число. Программа должна зеркально отразить центральные три цифры. Первая и последняя остаются на местах."
   ]
  },
  {
   "cell_type": "code",
   "execution_count": null,
   "metadata": {},
   "outputs": [
    {
     "name": "stdout",
     "output_type": "stream",
     "text": [
      "30789 -> 38709\n"
     ]
    }
   ],
   "source": [
    "number = input('Введите число: ')\n",
    "number_len = len(number)\n",
    "mirror_number = number[0]\n",
    "end_index = int(round(number_len/2))\n",
    "\n",
    "for i in range(1, end_index+1):\n",
    "    mirror_number += number[number_len-1-i]\n",
    "\n",
    "for i in range(1, end_index):\n",
    "    mirror_number += number[i]\n",
    "\n",
    "mirror_number += number[number_len-1]\n",
    "\n",
    "print(f\"{number} -> {mirror_number}\")"
   ]
  },
  {
   "cell_type": "markdown",
   "metadata": {},
   "source": [
    "##### 2) Отпуск. Пользователь вводит, сколько дней осталось до ближайшего отпуска. Программа должна вывести количество выходных дней до отпуска, если учесть, что выходные это суббота и воскресенье, сегодня понедельник и праздники мы не учитываем."
   ]
  },
  {
   "cell_type": "code",
   "execution_count": null,
   "metadata": {},
   "outputs": [
    {
     "name": "stdout",
     "output_type": "stream",
     "text": [
      "Количество выходных дней до отпуска: 6\n"
     ]
    }
   ],
   "source": [
    "DAYS_PER_WEEK = 7\n",
    "WEEK_WORKING_DAYS = 5\n",
    "WEEKEND_DAYS_PER_WEEK = 2\n",
    "\n",
    "days_till_vacation = int(input('Введите количество дней до отпуска: '))\n",
    "\n",
    "full_weeks = int(days_till_vacation/DAYS_PER_WEEK)\n",
    "weekend_days_till_vacation = WEEKEND_DAYS_PER_WEEK*full_weeks\n",
    "last_week_remainder = days_till_vacation-DAYS_PER_WEEK*full_weeks\n",
    "if last_week_remainder > WEEK_WORKING_DAYS:\n",
    "    weekend_days_till_vacation += last_week_remainder % WEEK_WORKING_DAYS\n",
    "\n",
    "print(f'Количество выходных дней до отпуска: {weekend_days_till_vacation}')"
   ]
  },
  {
   "cell_type": "markdown",
   "metadata": {},
   "source": [
    "##### 3) Пользователь вводит длину и ширину плитки шоколада, а также размер куска, который хочет отломить, программа должна вычислить - можно ли совершить подобный разлом или нет, если учесть, что ломать можно только по прямой"
   ]
  },
  {
   "cell_type": "code",
   "execution_count": null,
   "metadata": {},
   "outputs": [
    {
     "name": "stdout",
     "output_type": "stream",
     "text": [
      "Можно ли совершить разлом по прямой?\n",
      "1, 10, 1 -> True\n"
     ]
    }
   ],
   "source": [
    "bar_length = int(input('Введите длину плитки шоколада: '))\n",
    "bar_width = int(input('Введите ширину плитки шоколада: '))\n",
    "part_size = int(input('Введите размер куска шоколада в дольках: '))\n",
    "\n",
    "fit_into_bar = bar_length*bar_width >= part_size\n",
    "fits_length = part_size % bar_length == 0\n",
    "fits_width = part_size % bar_width == 0\n",
    "result = fit_into_bar and (fits_length or fits_width)\n",
    "\n",
    "print('Можно ли совершить разлом по прямой?')\n",
    "print(f'{bar_length}, {bar_width}, {part_size} -> {result}')"
   ]
  },
  {
   "cell_type": "markdown",
   "metadata": {},
   "source": [
    "##### 4) Пользователь вводит целое положительное число, программа должна вернуть строку в виде римского числа"
   ]
  },
  {
   "cell_type": "code",
   "execution_count": null,
   "metadata": {},
   "outputs": [
    {
     "name": "stdout",
     "output_type": "stream",
     "text": [
      "234 -> CCXXXIV\n"
     ]
    }
   ],
   "source": [
    "number = input('Введите целое положительное число, максимум 4 разряда: ')\n",
    "\n",
    "M = [\n",
    "    ['I', 'V'],\n",
    "    ['X', 'L'],\n",
    "    ['C', 'D'],\n",
    "    ['M', '']\n",
    "]\n",
    "rome_number = \"\"\n",
    "i = 0\n",
    "p = len(number)-1\n",
    "while i < len(number):\n",
    "    c = int(number[i])\n",
    "    if c == 0:\n",
    "        None\n",
    "    elif c == 1:\n",
    "        rome_number += M[p][0]\n",
    "    elif c == 2:\n",
    "        for r in range(0, 2):\n",
    "            rome_number += M[p][0]\n",
    "    elif c == 3:\n",
    "        for r in range(0, 3):\n",
    "            rome_number += M[p][0]\n",
    "    elif c == 4:\n",
    "        rome_number += M[p][0]\n",
    "        rome_number += M[p][1]\n",
    "    elif c == 5:\n",
    "        rome_number += M[p][1]\n",
    "    elif c == 6:\n",
    "        rome_number += M[p][1]\n",
    "        rome_number += M[p][0]\n",
    "    elif c == 7:\n",
    "        rome_number += M[p][1]\n",
    "        for r in range(0, 2):\n",
    "            rome_number += M[p][0]\n",
    "    elif c == 8:\n",
    "        rome_number += M[p][1]\n",
    "        for r in range(0, 3):\n",
    "            rome_number += M[p][0]\n",
    "    elif c == 9:\n",
    "        rome_number += M[p][0]\n",
    "        rome_number += M[p+1][0]\n",
    "    i += 1\n",
    "    p -= 1\n",
    "\n",
    "print(f\"{number} -> {rome_number}\")"
   ]
  },
  {
   "cell_type": "markdown",
   "metadata": {},
   "source": [
    "##### 5) Пользователь вводит данные, проверить - являются ли они положительным вещественным числом. Не использовать встроенные функции для проверки, только методы данных и конструкцию IF. (Дополнительное задание, по желанию - проверка на отрицательные вещественные числа)"
   ]
  },
  {
   "cell_type": "code",
   "execution_count": 20,
   "metadata": {},
   "outputs": [
    {
     "name": "stdout",
     "output_type": "stream",
     "text": [
      "False\n"
     ]
    }
   ],
   "source": [
    "SEP = '.'\n",
    "\n",
    "number = input('Введите вещественное число: ').lstrip().rstrip()\n",
    "\n",
    "result = True\n",
    "wo_dots = number.replace(SEP, '')\n",
    "if (len(number) - len(wo_dots) > 1):\n",
    "    result = False\n",
    "if (not wo_dots.isdigit()):\n",
    "    result = False\n",
    "\n",
    "print(result)"
   ]
  }
 ],
 "metadata": {
  "kernelspec": {
   "display_name": "Python 3",
   "language": "python",
   "name": "python3"
  },
  "language_info": {
   "codemirror_mode": {
    "name": "ipython",
    "version": 3
   },
   "file_extension": ".py",
   "mimetype": "text/x-python",
   "name": "python",
   "nbconvert_exporter": "python",
   "pygments_lexer": "ipython3",
   "version": "3.12.3"
  }
 },
 "nbformat": 4,
 "nbformat_minor": 2
}
