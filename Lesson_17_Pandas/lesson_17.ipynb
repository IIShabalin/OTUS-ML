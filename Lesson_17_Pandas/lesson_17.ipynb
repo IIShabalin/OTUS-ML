{
 "cells": [
  {
   "cell_type": "markdown",
   "metadata": {},
   "source": [
    "### Библиотека Pandas\n",
    "\n",
    "- возможности\n",
    "- основные функции\n",
    "- учебные ссылки\n",
    "\n",
    "Pandas - отправная точка в анализе данных.\n",
    "\n",
    "Применяется для EDA (exploratory data analysis).\n",
    "\n",
    "Стандартные импорты:"
   ]
  },
  {
   "cell_type": "code",
   "execution_count": 3,
   "metadata": {},
   "outputs": [],
   "source": [
    "import pandas as pd\n",
    "import numpy as np"
   ]
  },
  {
   "cell_type": "markdown",
   "metadata": {},
   "source": [
    "##### Типы данных\n",
    "\n",
    "- Series: одномерный массив с меткой\n",
    "- DataFrame: матрица из именованных столбцов-Series"
   ]
  },
  {
   "cell_type": "markdown",
   "metadata": {},
   "source": [
    "#### Операции\n",
    "\n",
    "Функция `Series.iloc[...]` - возврат значений строк по индексу(ам).\n",
    "\n",
    "Функция `Series.loc[...]` - возврат значений строк по названию(ям) столбцов.\n",
    "\n",
    "`df.info()` - информация о схеме дата-фрейма.\n",
    "\n",
    "`df.dtypes()` - информация о типах данных колонок дата-фрейма.\n",
    "\n",
    "`df.shape` - размер дата-фрейма.\n",
    "\n",
    "`df.index` - возвращает индекс для дальнейшего обращения к `df`.\n",
    "\n",
    "`df.column` - возвращает колонки `df`.\n",
    "\n",
    "`df.reset_index` - сброс (мульти)индекса.\n",
    "\n",
    "Удаление серии:\n",
    "- функцией `del` Python;\n",
    "- методом `DataFrame.pop()`;\n",
    "- методом `DataFrame.drop()`: удаляет строки или столбцы.\n",
    "\n",
    "`df.head(<num-rows>)` - взять первые `n` строк.\n",
    "\n",
    "`df.tail(<num-rows>)` - взять последние `n` строк.\n",
    "\n",
    "`df.set_option(...)` - установка параметров.\n",
    "\n",
    "`df.info()` - информация о `DataFrame`.\n",
    "\n",
    "`df.isna()` - возвращает значения NaN.\n",
    "\n",
    "`df.dropna()` - удаляет значения NaN.\n",
    "\n",
    "`df.fillna([<value>|<function>])` - заполняет значения NaN значением.\n",
    "\n",
    "Статистики:\n",
    "\n",
    "- `mean()`\n",
    "- `std()`\n",
    "- `min()`\n",
    "- `max()`\n",
    "- `unique()` - количество уникальных\n",
    "- ...\n",
    "\n",
    "`describe()` - посчитать все основные статистики.\n",
    "\n",
    "`df.values()` - вернуть массив NumPy\n",
    "\n",
    "`value_counts()` - количество значений (пример был на `bool`).\n",
    "\n",
    "`sort_values()` - сортировать по столбцам.\n",
    "\n",
    "Фильтрация: логическими операторами Python.\n"
   ]
  },
  {
   "cell_type": "markdown",
   "metadata": {},
   "source": [
    "#### Дополнительные операции\n",
    "\n",
    "Загрузка/выгрузка данных в различных форматах данных.\n"
   ]
  },
  {
   "cell_type": "code",
   "execution_count": null,
   "metadata": {},
   "outputs": [],
   "source": [
    "df = pd.read_csv('file.csv', header=0, skip_blank_lines=True)\n",
    "df = pd.read_json('file.json')\n",
    "df = pd.read_xml('file.xml')\n",
    "\n",
    "chunker = pd.read_csv('file.csv', header=0, skip_blank_lines=True, chunksize=100)\n",
    "# chunker - iterator"
   ]
  },
  {
   "cell_type": "code",
   "execution_count": null,
   "metadata": {},
   "outputs": [],
   "source": [
    "df = pd.read_csv('file.csv')\n",
    "df.to_clipboard()\n",
    "df.to_csv('file.csv')"
   ]
  },
  {
   "cell_type": "markdown",
   "metadata": {},
   "source": [
    "#### Подготовка данных\n",
    "\n",
    "`DataFrame.apply(<function>)` - применение функции к Series из DataFrame.\n",
    "\n",
    "`DataFrame.map(<function>)` - применение функции ко всем ячейкам DataFrame."
   ]
  },
  {
   "cell_type": "markdown",
   "metadata": {},
   "source": [
    "#### Группировка и аггрегация\n",
    "\n",
    "`DataFrame.groupby()` - группировка. Примеряется с дополнительной аггрегационной функцией.\n",
    "\n",
    "`DataFrame.crosstab()` - возвращает матрицу сопряженностей (confusion matrix). Для показателей с булевскими значениями.\n",
    "\n",
    "`DataFrame.pivot_table()` - возвращает сводную таблицу показателей с аггрегацией."
   ]
  },
  {
   "cell_type": "markdown",
   "metadata": {},
   "source": [
    "#### Слияния данных\n",
    "\n",
    "`pd.merge(<df1>, <df1>)` - объединение DataFrame. Работает по аналогии с SQL `join`.\n",
    "\n",
    "`DataFrame.join(<df_other>)` - объединение DataFrame.\n",
    "\n",
    "`pd.concat(<df_other>)` - конкатенация дата-фреймов друг за другом."
   ]
  },
  {
   "cell_type": "markdown",
   "metadata": {},
   "source": []
  },
  {
   "cell_type": "code",
   "execution_count": null,
   "metadata": {},
   "outputs": [],
   "source": [
    "data = {'Name': ['Ivan', 'Maria', 'Olga'], 'Age': [47.0, 42.0, 40.0]}\n",
    "df = pd.DataFrame(data, index=('a', 'b', 'c'))\n",
    "df"
   ]
  },
  {
   "cell_type": "code",
   "execution_count": null,
   "metadata": {},
   "outputs": [],
   "source": [
    "type(df)"
   ]
  },
  {
   "cell_type": "code",
   "execution_count": null,
   "metadata": {},
   "outputs": [],
   "source": [
    "df.iloc[0]"
   ]
  },
  {
   "cell_type": "code",
   "execution_count": null,
   "metadata": {},
   "outputs": [],
   "source": [
    "df.loc['a']"
   ]
  },
  {
   "cell_type": "markdown",
   "metadata": {},
   "source": [
    "#### Графика\n",
    "\n",
    "`df.plot()` - построение графика\n",
    "\n",
    "`df.hist()` - построение гистограммы"
   ]
  },
  {
   "cell_type": "markdown",
   "metadata": {},
   "source": [
    "##### Ссылки\n",
    "\n",
    "- http://pandas.pydata.org\n",
    "- учебные задачи на Pandas\n",
    "  - https://grossmend.com/blog/post/pandas_120_part_1/\n",
    "  - https://grossmend.com/blog/post/pandas_120_part_2/"
   ]
  }
 ],
 "metadata": {
  "kernelspec": {
   "display_name": ".venv",
   "language": "python",
   "name": "python3"
  },
  "language_info": {
   "codemirror_mode": {
    "name": "ipython",
    "version": 3
   },
   "file_extension": ".py",
   "mimetype": "text/x-python",
   "name": "python",
   "nbconvert_exporter": "python",
   "pygments_lexer": "ipython3",
   "version": "3.12.3"
  }
 },
 "nbformat": 4,
 "nbformat_minor": 2
}
