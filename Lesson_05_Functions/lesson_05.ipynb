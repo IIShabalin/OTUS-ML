{
 "cells": [
  {
   "cell_type": "markdown",
   "metadata": {},
   "source": [
    "##### Функции\n",
    "\n",
    "- аргументы:\n",
    "  - значение по умолчанию: n: int = 100500\n",
    "  - позиционные vs именованные параметры\n",
    "  - произвольное количество позиционных аргументов:\n",
    "    - *args\n",
    "  - произвольное количество именованных аргументов:\n",
    "    - *kwargs\n",
    "    - *kwargs -- это dict() с именами параметра и его значением\n",
    "- type hints\n",
    "  - параметр: word: str\n",
    "  - результат функции:\n",
    "    - -> str\n",
    "    - -> NoReturn\n",
    "\n",
    "В Python по умолчанию ограничен размер стека для рекурсивных вызовов.\n",
    "\n",
    "##### Лямбда-функции\n",
    "\n",
    "```python\n",
    "    lambda_fun = lambda x,y: x*y\n",
    "```\n",
    "\n",
    "##### Функция высшего порядка\n",
    "\n",
    "Функция высшего порядка: это функция, у которой в параметрах есть функция.\n",
    "\n",
    "```python\n",
    "    numbers.sort(key=lambda x: abs(x))\n",
    "```\n"
   ]
  },
  {
   "cell_type": "code",
   "execution_count": null,
   "metadata": {
    "vscode": {
     "languageId": "plaintext"
    }
   },
   "outputs": [],
   "source": [
    "def <name>(<args>):\n",
    "    <body>"
   ]
  }
 ],
 "metadata": {
  "language_info": {
   "name": "python"
  }
 },
 "nbformat": 4,
 "nbformat_minor": 2
}
