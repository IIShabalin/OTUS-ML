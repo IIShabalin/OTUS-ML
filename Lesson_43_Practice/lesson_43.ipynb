{
 "cells": [
  {
   "cell_type": "markdown",
   "metadata": {},
   "source": [
    "### Практика\n",
    "\n",
    "`SimpleImputer()` - \"заполнятель\" колонок разными разновидностями значений: константа, среднее, наиболее часто встречающееся.\n",
    "\n",
    "Модели, которые применить:\n",
    "* LinearRegressor\n",
    "* RandomForest*\n",
    "* CatBoost*\n",
    "\n",
    "Использовать стратификацию, когда есть неравномерное распределение признаков."
   ]
  }
 ],
 "metadata": {
  "language_info": {
   "name": "python"
  }
 },
 "nbformat": 4,
 "nbformat_minor": 2
}
