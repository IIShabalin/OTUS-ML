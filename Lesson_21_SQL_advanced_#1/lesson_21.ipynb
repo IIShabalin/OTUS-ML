{
 "cells": [
  {
   "cell_type": "markdown",
   "metadata": {},
   "source": [
    "### Продвинутый SQL: Join, exists, вложенные запросы, group by, having\n",
    "\n",
    "- LEFT JOIN\n",
    "- RIGHT JOIN\n",
    "- LEFT JOIN EXCLUDING INNER JOIN\n",
    "- FULL OUTER JOIN\n",
    "- RIGHT JOIN EXCLUDING INNER JOIN\n",
    "- INNER JOIN\n",
    "- FULL OUTER JOIN EXCLUDING INNER JOIN\n"
   ]
  }
 ],
 "metadata": {
  "language_info": {
   "name": "python"
  }
 },
 "nbformat": 4,
 "nbformat_minor": 2
}
