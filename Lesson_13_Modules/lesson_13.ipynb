{
 "cells": [
  {
   "cell_type": "markdown",
   "metadata": {},
   "source": [
    "### Модули\n",
    "\n",
    "Рассматривали:\n",
    "- `os` - интерфейс к API OS\n",
    "- `pathlib` - классы для работы с путями\n",
    "- `dotenv` - работа с файлами `.env`\n",
    "- `functools` - полезные функции для работы с функциями и вызываемыми объектами; функциональное программирование\n",
    "  - `@functools.wraps(<function>)` - сохраняет метаданные функции\n",
    "  - `@functools.lru_cache`\n",
    "  - `@functools.cache` - паттерт memoize\n",
    "- `itertools` - функциональные утилиты для создания и использования итераторов; в основном возвращают генераторы"
   ]
  },
  {
   "cell_type": "code",
   "execution_count": null,
   "metadata": {},
   "outputs": [],
   "source": [
    "import os\n",
    "import pathlib\n",
    "import dotenv\n",
    "import functools\n",
    "import itertools\n",
    "\n",
    "@functools.lru_cache\n",
    "def calc(a, b):\n",
    "    return a * b\n"
   ]
  }
 ],
 "metadata": {
  "kernelspec": {
   "display_name": ".venv",
   "language": "python",
   "name": "python3"
  },
  "language_info": {
   "name": "python",
   "version": "3.12.3"
  }
 },
 "nbformat": 4,
 "nbformat_minor": 2
}
