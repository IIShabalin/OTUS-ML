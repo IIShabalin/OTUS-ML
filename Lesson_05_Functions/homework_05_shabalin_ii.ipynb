{
 "cells": [
  {
   "cell_type": "markdown",
   "metadata": {},
   "source": [
    "##### 1) Написать функцию, которая будет перводить снейк_кейс в КэмелКейс и наоборот. Функция сама определяет - какой формат ей передали. Можно добавить ключевой аргумент, который будет принудительно возвращать один из форматов."
   ]
  },
  {
   "cell_type": "code",
   "execution_count": null,
   "metadata": {},
   "outputs": [
    {
     "name": "stdout",
     "output_type": "stream",
     "text": [
      "Строка с преобразованным case: q_we_a_sd_z_xc\n"
     ]
    }
   ],
   "source": [
    "def transform_case(value: str) -> str:\n",
    "\n",
    "    def snake_case_to_camel_case(value: str) -> str:\n",
    "        value = '_' + value\n",
    "        result = \"\"\n",
    "        i = 0\n",
    "        while i < len(value):\n",
    "            if value[i] == '_':\n",
    "                i += 1\n",
    "                result += value[i].upper()\n",
    "            else:\n",
    "                result += value[i].lower()\n",
    "            i += 1\n",
    "        return result\n",
    "\n",
    "    def camel_case_to_snake_case(value: str) -> str:\n",
    "        result = \"\"\n",
    "        for char in value:\n",
    "            if char.isupper():\n",
    "                result += '_' + char.lower()\n",
    "            else:\n",
    "                result += char.lower()\n",
    "        return result.lstrip('_')\n",
    "\n",
    "    if len(value) < 1:\n",
    "        return ''\n",
    "    value = value.strip()\n",
    "    if (value.find('_') >= 0):\n",
    "        return snake_case_to_camel_case(value)\n",
    "    else:\n",
    "        return camel_case_to_snake_case(value)\n",
    "\n",
    "string = input('Введите строку: ')\n",
    "transformed_string = transform_case(string)\n",
    "print(f'Строка с преобразованным case: {transformed_string}')"
   ]
  },
  {
   "cell_type": "markdown",
   "metadata": {},
   "source": [
    "##### 2) Написать функцию проверяющую правильность введенной даты."
   ]
  },
  {
   "cell_type": "code",
   "execution_count": 12,
   "metadata": {},
   "outputs": [
    {
     "name": "stdout",
     "output_type": "stream",
     "text": [
      "Результат проверки даты 29.02.2024: True\n"
     ]
    }
   ],
   "source": [
    "import string\n",
    "\n",
    "def is_leap_year(year: int) -> bool:\n",
    "    return year % 4 == 0 and (year % 100 != 0 or year % 400 == 0)\n",
    "\n",
    "def get_day_limit(month: int, year: int) -> bool:\n",
    "    if month == 2:\n",
    "        return 29 if is_leap_year(year) else 28\n",
    "    else:\n",
    "        return 31 if month % 2 == 1 else 30\n",
    "\n",
    "def validate_date(date: str) -> str:\n",
    "    date_components = date.split('.')\n",
    "    if len(date_components) != 3:\n",
    "        return False\n",
    "\n",
    "    for date_component in date_components:\n",
    "        if not date_component.isnumeric:\n",
    "            return False\n",
    "    \n",
    "    year = int(date_components[2])\n",
    "    is_year_valid = year >= 0\n",
    "\n",
    "    month = int(date_components[1])\n",
    "    is_month_valid = month >= 1 and month <= 12\n",
    "\n",
    "    day = int(date_components[0])\n",
    "    is_day_valid = day >= 1 and day <= get_day_limit(month, year)\n",
    "\n",
    "    return is_day_valid and is_month_valid and is_year_valid\n",
    "\n",
    "date = input('Введите дату в формате DD.MM.YYYY: ')\n",
    "is_valid = validate_date(date)\n",
    "print(f'Результат проверки даты {date}: {is_valid}')"
   ]
  },
  {
   "cell_type": "markdown",
   "metadata": {},
   "source": [
    "##### 3) Функция проверки на простое число. Простые числа – это такие числа, которые делятся на себя и на единицу."
   ]
  },
  {
   "cell_type": "code",
   "execution_count": 29,
   "metadata": {},
   "outputs": [
    {
     "name": "stdout",
     "output_type": "stream",
     "text": [
      "Число 11 - простое\n"
     ]
    }
   ],
   "source": [
    "def is_prime(number: int) -> bool:\n",
    "    initial_value = lambda n: False if n < 2 else True\n",
    "    flags = [initial_value(i) for i in range(number + 1)]\n",
    "    i = 2\n",
    "    while i <= number:\n",
    "        if flags[i]:\n",
    "            j = i + i\n",
    "            while j <= number:\n",
    "                flags[j] = False\n",
    "                j = j + i\n",
    "        i += 1\n",
    "    return flags[number]\n",
    "\n",
    "number = int(input('Введите целое число: '))\n",
    "is_prime_number = is_prime(number)\n",
    "print(f\"Число {number} - {'простое' if is_prime_number else 'не простое'}\")"
   ]
  },
  {
   "cell_type": "markdown",
   "metadata": {},
   "source": [
    "##### 4) Пользователь в бесконечном цикле вводит данные пользователей: имя, затем фамилию, возраст и ID. Ввод продолжается до тех пор, пока не будет введено пустое поле.\n",
    "\n",
    "Пользователи заносятся в словарь, где ключ это ID пользователя, а остальные данные записываются в виде кортежа.\n",
    "\n",
    "Также программа должна проверять, что имя и фамилия состоят только из символов и начинаются с большой буквы, если не с большой, то заменяет на большую, возраст должен быть числом от 18 до 60, ID - целое число, дополненное до 8 знаков незначащими нулями, ID должен быть уникальным\n",
    "\n",
    "Дополнительно написать функцию, которая будет выводить полученный словарь в виде таблицы."
   ]
  },
  {
   "cell_type": "code",
   "execution_count": 15,
   "metadata": {},
   "outputs": [
    {
     "name": "stdout",
     "output_type": "stream",
     "text": [
      "---------------------------------------------------------------------------\n",
      "|   00000001 |                     John |                      Doe |   30 |\n",
      "|   00000002 |                     John |                      Doe |   30 |\n",
      "|   00000003 |                     John |                      Doe |   30 |\n",
      "---------------------------------------------------------------------------\n"
     ]
    }
   ],
   "source": [
    "users = dict()\n",
    "\n",
    "def format_name(value: str) -> str:\n",
    "    result = \"\"\n",
    "    for i, c in enumerate(value):\n",
    "        result += c.upper() if i == 0 else c\n",
    "    return result\n",
    "\n",
    "def is_name_valid(value: str) -> bool:\n",
    "    for i, c in enumerate(value):\n",
    "        if i > 0 and c.isupper():\n",
    "            return False\n",
    "    return True\n",
    "\n",
    "def is_age_valid(age_str: str) -> bool:\n",
    "    if not age_str.isnumeric():\n",
    "        return False\n",
    "    age = int(age_str)\n",
    "    return age >= 18 and age <= 60\n",
    "\n",
    "def is_id_valid(id: str) -> bool:\n",
    "    return id.isnumeric()\n",
    "\n",
    "def format_id(id: str) -> str:\n",
    "    return '{:0>8}'.format(id)\n",
    "\n",
    "def print_users(users: dict):\n",
    "    COLUMN_WIDTH = (10, 24, 24, 4)\n",
    "    table_width = 0\n",
    "    for width in COLUMN_WIDTH:\n",
    "        table_width += width + 3\n",
    "    table_width += 1\n",
    "    table_line = ('{:-^'+str(table_width)+'}').format('')\n",
    "\n",
    "    print(table_line)\n",
    "    for id in users:\n",
    "        columns = [id]\n",
    "        for user_component in users[id]:\n",
    "            columns.append(user_component)\n",
    "        line = \"\"\n",
    "        for i, column in enumerate(columns):\n",
    "            column_format = '| {:>' + str(COLUMN_WIDTH[i]) + '} '\n",
    "            line += column_format.format(column)\n",
    "        line += '|'\n",
    "        print(line)\n",
    "    print(table_line)\n",
    "\n",
    "while True:\n",
    "    user_string = input('Введите запись пользователя в формате (Name,Surname,Age,ID): ')\n",
    "    if user_string == '' or user_string == None:\n",
    "        break\n",
    "    \n",
    "    user_records = user_string.split(',')\n",
    "    if len(user_records) != 4:\n",
    "        print(f'Запись в некорректном формате пропущена (неверное количество компонентов): {user_string}')\n",
    "        continue\n",
    "\n",
    "    name, surname, age_str, id = user_records\n",
    "    \n",
    "    name_formatted = format_name(name)\n",
    "    if not is_name_valid(name_formatted):\n",
    "        print(f'Запись в некорректном формате пропущена (неверное имя): {user_string}')\n",
    "        continue\n",
    "    \n",
    "    surname_formatted = format_name(surname)\n",
    "    if not is_name_valid(surname_formatted):\n",
    "        print(f'Запись в некорректном формате пропущена (неверная фамилия): {user_string}')\n",
    "        continue\n",
    "    \n",
    "    if not is_age_valid(age_str):\n",
    "        print(f'Запись в некорректном формате пропущена (неверный возраст): {user_string}')\n",
    "        continue\n",
    "\n",
    "    if not is_id_valid(id):\n",
    "        print(f'Запись в некорректном формате пропущена (неверный ID): {user_string}')\n",
    "        continue\n",
    "\n",
    "    id_formatted = format_id(id)\n",
    "    if id_formatted in users:\n",
    "        print(f'Запись пропущена (ID не уникален): {user_string}')\n",
    "        continue\n",
    "    \n",
    "    users[id_formatted] = (name_formatted, surname_formatted, age_str)\n",
    "\n",
    "print_users(users)"
   ]
  }
 ],
 "metadata": {
  "kernelspec": {
   "display_name": "Python 3",
   "language": "python",
   "name": "python3"
  },
  "language_info": {
   "codemirror_mode": {
    "name": "ipython",
    "version": 3
   },
   "file_extension": ".py",
   "mimetype": "text/x-python",
   "name": "python",
   "nbconvert_exporter": "python",
   "pygments_lexer": "ipython3",
   "version": "3.12.3"
  }
 },
 "nbformat": 4,
 "nbformat_minor": 2
}
