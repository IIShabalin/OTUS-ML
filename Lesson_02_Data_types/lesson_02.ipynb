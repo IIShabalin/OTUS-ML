{
 "cells": [
  {
   "cell_type": "markdown",
   "metadata": {},
   "source": [
    "### Типы данных\n",
    "\n",
    "- типы:\n",
    "  - int, float, str, bool, None\n",
    "  - F-строки\n",
    "- именование переменных\n",
    "  - стандарт на форматирование кода: `PEP-8`\n",
    "  - в Python используется `snake_case`\n",
    "- операторы\n",
    "  - сложение: `+`\n",
    "  - вычитание: `-`\n",
    "  - умножение: `*`\n",
    "  - деление: `/`\n",
    "  - целочисленное деление: `//`\n",
    "  - остаток от деления: `%`\n",
    "- преобразования типов:\n",
    "  - преобразование в `bool`\n",
    "    - любое число больше `0`: `True`\n",
    "    - число `0`: `False`\n",
    "    - любая непустая строка: `True`\n",
    "    - пустая строка: `False`"
   ]
  },
  {
   "cell_type": "code",
   "execution_count": 7,
   "metadata": {},
   "outputs": [
    {
     "name": "stdout",
     "output_type": "stream",
     "text": [
      "one---two---three\n",
      "one two three!four\n"
     ]
    }
   ],
   "source": [
    "print(\"one\", \"two\", \"three\", sep='---')\n",
    "print(\"one\", \"two\", \"three\", end='!')\n",
    "print(\"four\")"
   ]
  },
  {
   "cell_type": "code",
   "execution_count": null,
   "metadata": {},
   "outputs": [
    {
     "name": "stdout",
     "output_type": "stream",
     "text": [
      "12\n"
     ]
    }
   ],
   "source": [
    "num = input(\"Enter number:\")\n",
    "print(num)"
   ]
  },
  {
   "cell_type": "code",
   "execution_count": 9,
   "metadata": {},
   "outputs": [
    {
     "name": "stdout",
     "output_type": "stream",
     "text": [
      "Value: 23\n",
      "Type: <class 'str'>\n"
     ]
    }
   ],
   "source": [
    "val = input(\"Input value:\")\n",
    "print(\"Value:\", val)\n",
    "print(\"Type:\", type(val))"
   ]
  },
  {
   "cell_type": "code",
   "execution_count": 10,
   "metadata": {},
   "outputs": [
    {
     "name": "stdout",
     "output_type": "stream",
     "text": [
      "id(a): 11753896\n",
      "id(a): 11753960\n"
     ]
    }
   ],
   "source": [
    "a = 1\n",
    "print('id(a):', id(a))\n",
    "b = 2\n",
    "a = a + b\n",
    "print('id(a):', id(a))"
   ]
  },
  {
   "cell_type": "code",
   "execution_count": 19,
   "metadata": {},
   "outputs": [
    {
     "name": "stdout",
     "output_type": "stream",
     "text": [
      "1 <class 'int'>\n",
      "1.0 <class 'float'>\n",
      "True <class 'bool'>\n"
     ]
    }
   ],
   "source": [
    "a = int('1')\n",
    "print(a, type(a))\n",
    "\n",
    "b = float('1')\n",
    "print(b, type(b))\n",
    "\n",
    "c = bool('True')\n",
    "print(c, type(c))"
   ]
  },
  {
   "cell_type": "code",
   "execution_count": 13,
   "metadata": {},
   "outputs": [
    {
     "name": "stdout",
     "output_type": "stream",
     "text": [
      "1.23\n",
      "1000.0\n"
     ]
    }
   ],
   "source": [
    "print(round(1.2345, 2))\n",
    "print(round(1234.5, -3))"
   ]
  },
  {
   "cell_type": "markdown",
   "metadata": {},
   "source": [
    "### Ссылки\n",
    "\n",
    "- https://pypi.org\n",
    "- https://python.org"
   ]
  }
 ],
 "metadata": {
  "kernelspec": {
   "display_name": "Python 3",
   "language": "python",
   "name": "python3"
  },
  "language_info": {
   "codemirror_mode": {
    "name": "ipython",
    "version": 3
   },
   "file_extension": ".py",
   "mimetype": "text/x-python",
   "name": "python",
   "nbconvert_exporter": "python",
   "pygments_lexer": "ipython3",
   "version": "3.12.3"
  }
 },
 "nbformat": 4,
 "nbformat_minor": 2
}
