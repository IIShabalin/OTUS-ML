{
 "cells": [
  {
   "cell_type": "markdown",
   "metadata": {},
   "source": [
    "### ООП\n"
   ]
  },
  {
   "cell_type": "markdown",
   "metadata": {},
   "source": [
    "##### Общий для всех атрибут\n",
    "\n",
    "Аналогичен `static`."
   ]
  },
  {
   "cell_type": "code",
   "execution_count": null,
   "metadata": {},
   "outputs": [],
   "source": [
    "class Car:\n",
    "    galaxy = 'Milky way'"
   ]
  },
  {
   "cell_type": "markdown",
   "metadata": {},
   "source": [
    "##### self\n",
    "\n",
    "Ссылка на экземпляр объекта, вызвавшего метод."
   ]
  },
  {
   "cell_type": "code",
   "execution_count": null,
   "metadata": {},
   "outputs": [],
   "source": [
    "class Car:\n",
    "    galaxy = 'Milky way'\n",
    "\n",
    "    def set_speed(self, speed):\n",
    "        self.speed = speed"
   ]
  },
  {
   "cell_type": "markdown",
   "metadata": {},
   "source": [
    "##### dunder методы (double underscore методы)\n",
    "\n",
    "\"Магические\" методы - интерфейсы для взаимодействия с объектами.\n",
    "Вызываются автоматически, когда объект участвует в определённой операции.\n",
    "Благодаря им класс ведёт себя как встроенный тип.\n",
    "\n",
    "1) Инициализация: `__init__`\n",
    "2) Строковое представление для пользователя: `__str__`\n",
    "3) Строковое представление для отладки: `__repr__`\n",
    "4) Длина коллекции: `__len__`\n",
    "5) `__add__`\n",
    "6) `__sub__`\n",
    "7) `__mul__`"
   ]
  },
  {
   "cell_type": "markdown",
   "metadata": {},
   "source": [
    "##### Уровни видимости\n",
    "\n",
    "- public\n",
    "  - attribute\n",
    "- protected\n",
    "  - _attribute\n",
    "- private\n",
    "  - __attribute"
   ]
  },
  {
   "cell_type": "markdown",
   "metadata": {},
   "source": [
    "##### Наследование\n",
    "\n",
    "Поддерживается множественное наследование.\n",
    "\n",
    "`super()` -- доступ к родительскому классу."
   ]
  },
  {
   "cell_type": "code",
   "execution_count": null,
   "metadata": {},
   "outputs": [],
   "source": [
    "class Parent:\n",
    "    pass\n",
    "\n",
    "class Child(Parent):\n",
    "    \n",
    "    def __init__(self):\n",
    "        super().__init__()"
   ]
  }
 ],
 "metadata": {
  "language_info": {
   "name": "python"
  }
 },
 "nbformat": 4,
 "nbformat_minor": 2
}
