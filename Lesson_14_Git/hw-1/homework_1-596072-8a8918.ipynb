{
  "cells": [
    {
      "cell_type": "markdown",
      "metadata": {
        "id": "rL70m2sic0jV"
      },
      "source": [
        "# <center> Homework 1 </center>"
      ]
    },
    {
      "cell_type": "markdown",
      "metadata": {
        "id": "JVd5jRlPc0jY"
      },
      "source": [
        "# 0. Где мы сейчас?\n",
        "<img src=\"https://upload.wikimedia.org/wikipedia/commons/thumb/3/38/Jupyter_logo.svg/1200px-Jupyter_logo.svg.png\" width=\"150\">\n",
        "\n",
        "[Jupyter Notebook](https://jupyter.org/) - интерактивная среда для запуска программного кода в браузере. Удобный инструмент для анализа данных, который используется многими специалистами по data science. Позволяет выполнять отдельные ячейки с кодом, а не всю программу сразу, что очень удобно при знакомстве с данными."
      ]
    },
    {
      "cell_type": "markdown",
      "metadata": {
        "id": "k8hj3Kdvc0jZ"
      },
      "source": [
        "# 1. Python\n",
        "> Python - это свободный интерпретируемый объектно-ориентированный расширяемый встраиваемый язык программирования очень высокого уровня\n",
        "\n",
        ">*(Г.Россум, Ф.Л.Дж.Дрейк, Д.С.Откидач \"Язык программирования Python\").*\n",
        "\n",
        "А если без цитат, то питон - это просто очень крутой язык, созданный в 1991 году [Великодушным пожизненным диктатором](https://ru.wikipedia.org/wiki/%D0%92%D0%B5%D0%BB%D0%B8%D0%BA%D0%BE%D0%B4%D1%83%D1%88%D0%BD%D1%8B%D0%B9_%D0%BF%D0%BE%D0%B6%D0%B8%D0%B7%D0%BD%D0%B5%D0%BD%D0%BD%D1%8B%D0%B9_%D0%B4%D0%B8%D0%BA%D1%82%D0%B0%D1%82%D0%BE%D1%80) Гвидо ван Россумом и названный в честь любимого им шоу [Monty Python's Flying Circus](https://en.wikipedia.org/wiki/Monty_Python%27s_Flying_Circus)\n",
        "\n",
        "<img src=\"https://advancelocal-adapter-image-uploads.s3.amazonaws.com/image.oregonlive.com/home/olive-media/width2048/img/tv/photo/2018/10/10/montycastjpg-7ef393e2355a42aa.jpg\" width=\"300\">"
      ]
    },
    {
      "cell_type": "markdown",
      "metadata": {
        "id": "llQ9RXHfc0ja"
      },
      "source": [
        "# 2. Anaconda\n",
        "\n",
        "[Сборка Anaconda](https://www.anaconda.com/products/individual) включает очень много полезных библиотек для анализа данных.\n",
        "\n",
        "Среди наиболее популярных библиотек:\n",
        " - <a href=\"http://numpy.org\">Numpy</a> - это один из основных пакетов для математических вычислений. Он содержит средства для работы с многомерными массивами и высокоуровневыми математическими функциями\n",
        " - <a href=\"https://www.scipy.org/\">SciPy</a> - научные вычисления. Методы оптимизации, интегрирования, модули обработки сигналов и изображений, статистика, линейная алгебра, сплайны, кластеризация и многое другое\n",
        " -  <a href=\"http://pandas.pydata.org/\">Pandas</a> - основная библиотека для обработки и анализа данных. Предназначена для данных разной природы - матричных, панельных данных, временных рядов. Претендует на звание самого мощного и гибкого средства для анализа данных с открытым исходным кодом\n",
        " - <a href=\"http://scikit-learn.org/stable/\">Scikit-learn</a> - реализация очень многих методов машинного обучения с отличной документацией.\n",
        " - <a href=\"http://http://matplotlib.org/\">matplotlib</a> - хорошая библиотека для визуализации данных\n",
        "\n",
        " С этими библиотеками вы будете знакомится дальше на курсе, а пока давайте попрактикуемся в решении базовых задач на  чистом Python."
      ]
    },
    {
      "cell_type": "markdown",
      "metadata": {
        "id": "rfAcLe-Tc0ja"
      },
      "source": [
        "# 3. Задачки"
      ]
    },
    {
      "cell_type": "markdown",
      "metadata": {
        "id": "y7gWqyZpc0jb"
      },
      "source": [
        "## Задача 1\n",
        "$N$ хоббитов делят $K$ кусков эльфийского хлеба поровну, не делящийся нацело остаток остается в корзинке у Сэма. Напишите функцию, которая принимает на вход параметры $N$ и $K$ и возвращает два числа: $x$ - cколько кусков эльфиского хлеба достанется каждому хоббиту, и $y$ - сколько кусков остаётся в корзинке."
      ]
    },
    {
      "cell_type": "code",
      "execution_count": 14,
      "metadata": {
        "id": "m9mteFtwc0jb"
      },
      "outputs": [],
      "source": [
        "def share_bread(N: int, K: int) -> tuple:\n",
        "    x = int(K / N)\n",
        "    y = int(K % N)\n",
        "    return x, y\n",
        "\n",
        "\n",
        "# если в функции всё верно, то после выполнения этой строчки, не должно выскакивать ошибок\n",
        "assert share_bread(N=3, K=14) == (4, 2)\n",
        "assert share_bread(N=5, K=10) == (2, 0)"
      ]
    },
    {
      "cell_type": "markdown",
      "metadata": {
        "id": "i24Th8I7c0jc"
      },
      "source": [
        "## Задача 2\n",
        "\n",
        "В копях Мории хоббиты нашли стену, на которой высечены разные натуральные числа. Согласно древним сказаниям, это даты сражений. Хоббиты знают, что сражения происходили только по високосным годам. Помогите хоббитам определить, является ли год с данным числом датой великого сражения. Если это так, то верните строку \"YOU SHALL PASS\", иначе верните \"YOU SHALL NOT PASS\". Напомним, что в соответствии с хоббитским календарем, год является високосным, если его номер кратен 4, но не кратен 100, а также если он кратен 400."
      ]
    },
    {
      "cell_type": "code",
      "execution_count": 13,
      "metadata": {
        "id": "3SnU33pPc0jc"
      },
      "outputs": [],
      "source": [
        "def leap_year(year):\n",
        "    if year % 4 == 0 and (year % 100 != 0 or year % 400 == 0):\n",
        "        return 'YOU SHALL PASS'\n",
        "    else:\n",
        "        return 'YOU SHALL NOT PASS'\n",
        "\n",
        "\n",
        "assert leap_year(5) == 'YOU SHALL NOT PASS'"
      ]
    },
    {
      "cell_type": "markdown",
      "metadata": {
        "id": "-oibBIG4c0jd"
      },
      "source": [
        "## Задача 3\n",
        "<img src=\"http://i0.kym-cdn.com/photos/images/original/001/187/255/5e9.gif\" width=300>\n",
        "\n",
        "\n",
        "Для могущественного магического ритуала Гендальфу необходимо быстро подсчитывать площадь своего амулета, который умеет менять размеры. Известно, что амулет имеет форму треугольника и Гендальф знает длину каждой из сторон. Напишите функцию, которая считает площадь амулета по трем сторонам.  \n",
        "\n",
        "**Подсказка:** используйте формулу Герона\n",
        "$$ S = \\sqrt{p(p-a)(p-b)(p-c)} $$\n",
        "$$ p = \\frac{a + b + c}{2}$$\n"
      ]
    },
    {
      "cell_type": "code",
      "execution_count": 12,
      "metadata": {
        "id": "Uln7wcTVc0jd"
      },
      "outputs": [],
      "source": [
        "from math import sqrt\n",
        "\n",
        "\n",
        "def amulet_area(a: float, b: float, c: float) -> float:\n",
        "    p = (a + b + c) / 2\n",
        "    S = sqrt(p * (p - a) * (p - b) * (p - c))\n",
        "    return S\n",
        "\n",
        "\n",
        "assert amulet_area(3, 4, 5) == 6\n",
        "assert amulet_area(5, 8, 5) == 12"
      ]
    },
    {
      "cell_type": "markdown",
      "metadata": {
        "id": "Os5KM6bQc0jd"
      },
      "source": [
        "## Задача 4\n",
        "\n",
        "Хоббиты собираются пешком идти до Мордора и им нужно подсчитать расстояние, которое им предстоит пройти. Хоббиты смогли вспомнить сразу несколько метрик расстояния: евклидово, манхэттена и косинусное, так что ваша задача - написать функцию под каждую из них. Важное условие - используйте только базовые функции для решения.\n",
        "\n",
        "\n",
        "* Евклидово расстояние\n",
        "$$ d(a, b) = \\sqrt{\\sum_i (a_i - b_i)^2} $$\n",
        "* Расстояние Манхэттена\n",
        "$$ d(a, b) = \\sum_i |a_i - b_i| $$\n",
        "* Косинусное расстояние\n",
        "$$ d(a, b) = 1 - \\frac{a^\\top b}{||a||_2\\cdot||b||_2}$$"
      ]
    },
    {
      "cell_type": "code",
      "execution_count": 2,
      "metadata": {
        "id": "_21LOuZRc0jd"
      },
      "outputs": [],
      "source": [
        "from math import sqrt\n",
        "\n",
        "\n",
        "def cal_euclidean(a, b):\n",
        "    ab_pairs = zip(a, b, strict=True)\n",
        "    powers = ((ai - bi) ** 2 for ai, bi in ab_pairs)\n",
        "    distance = sqrt(sum(powers))\n",
        "    return distance\n",
        "\n",
        "\n",
        "def cal_manhattan(a, b):\n",
        "    ab_pairs = zip(a, b, strict=True)\n",
        "    distance = sum(abs(ai - bi) for ai, bi in ab_pairs)\n",
        "    return distance\n",
        "\n",
        "\n",
        "def cal_cosine(a, b):\n",
        "    ab_pairs = zip(a, b, strict=True)\n",
        "    dot_product = sum(x * y for x, y in ab_pairs)\n",
        "    d_a = sqrt(sum(ai ** 2 for ai in a))\n",
        "    d_b = sqrt(sum(bj ** 2 for bj in b))\n",
        "    divider = d_a * d_b\n",
        "    distance = 1 - (dot_product / divider)\n",
        "    return distance"
      ]
    },
    {
      "cell_type": "code",
      "execution_count": 3,
      "metadata": {
        "id": "fvyqAKchc0je"
      },
      "outputs": [
        {
          "name": "stdout",
          "output_type": "stream",
          "text": [
            "28.24889378365107\n",
            "72\n",
            "1.010166571355507\n"
          ]
        }
      ],
      "source": [
        "import numpy as np\n",
        "\n",
        "a = np.random.randint(-10, 10, size=10)\n",
        "b = np.random.randint(-10, 10, size=10)\n",
        "print(cal_euclidean(a, b))\n",
        "print(cal_manhattan(a, b))\n",
        "print(cal_cosine(a, b))"
      ]
    },
    {
      "cell_type": "markdown",
      "metadata": {
        "id": "w1L3GDw3c0je"
      },
      "source": [
        "## Задача 5* (бонусное неоцениваемое задание)\n",
        "\n",
        "**Замечание:** Поскольку библиотеку numpy мы будем подробно разбирать дальше, то это задание является бонусным, его выполнение необязательно для сдачи ДЗ и не влияет на итоговый балл. Как вариант, можете вернуться к нему после прохождения numpy ;)\n",
        "\n"
      ]
    },
    {
      "cell_type": "markdown",
      "metadata": {
        "id": "aEDIBiRpc0je"
      },
      "source": [
        "Создайте случайный array (`np.random.rand()`) длинной 100. Преобразуйте его так, чтобы\n",
        "* Максимальный элемент(ы) был равен 1\n",
        "* Минимальный элемент(ы) был равен 0\n",
        "* Остальные элементы в интервале от 0 до 1 остаются прежними"
      ]
    },
    {
      "cell_type": "code",
      "execution_count": 1,
      "metadata": {
        "id": "AFye6XzXc0je"
      },
      "outputs": [
        {
          "name": "stdout",
          "output_type": "stream",
          "text": [
            "0.9922872803315834 0.0007173289799675686\n",
            "[2.09399377e-02 8.38958256e-01 8.60837337e-01 2.72371643e-01\n",
            " 9.39257841e-01 5.50111178e-01 3.88847406e-01 3.24532818e-01\n",
            " 4.72528297e-01 5.20457549e-01 5.20476981e-01 7.07492888e-01\n",
            " 3.82991524e-01 4.50265824e-01 8.64885226e-01 9.15907846e-01\n",
            " 4.76874482e-01 2.28022116e-01 1.74714026e-01 6.37706559e-01\n",
            " 1.74128793e-01 8.43404795e-01 4.82244294e-01 2.95709530e-02\n",
            " 1.51958390e-01 8.46780704e-02 2.01197961e-01 1.11868584e-01\n",
            " 7.17328980e-04 7.21180474e-01 5.71554963e-01 9.08268187e-02\n",
            " 7.50658785e-01 6.04021032e-01 1.56270590e-02 8.33029448e-01\n",
            " 1.84650380e-02 7.76119056e-01 1.28209496e-01 2.51721119e-01\n",
            " 5.40095179e-01 4.47520221e-01 3.84721195e-01 5.14798390e-01\n",
            " 5.76475790e-01 9.50597113e-02 4.58390718e-01 4.65950808e-01\n",
            " 2.67120794e-01 8.06977924e-01 7.37233240e-01 5.74083760e-01\n",
            " 9.90434930e-01 7.34709262e-01 2.81015442e-01 5.17647650e-01\n",
            " 7.80390787e-02 7.10806617e-01 9.47676308e-01 4.89458439e-01\n",
            " 4.47648216e-01 6.90821832e-01 5.04630009e-01 6.52000652e-01\n",
            " 3.70549433e-01 6.25060925e-01 7.80718198e-01 3.66906722e-01\n",
            " 4.79879324e-01 6.28106910e-01 8.79787467e-01 8.16459530e-01\n",
            " 2.68441822e-01 3.28962881e-01 4.30617492e-01 8.18265848e-01\n",
            " 3.56098838e-01 8.48412144e-01 9.07658254e-01 5.18550832e-01\n",
            " 3.75969049e-01 5.04881227e-01 2.68761602e-01 4.02415697e-01\n",
            " 9.92287280e-01 6.36200096e-01 2.71282718e-01 8.21939015e-01\n",
            " 3.21243351e-01 5.89808034e-01 3.54215747e-01 8.36346590e-01\n",
            " 5.96979837e-01 9.72583570e-01 8.29312874e-02 6.09209301e-01\n",
            " 5.59695588e-01 2.67245634e-01 3.44508856e-01 5.78144755e-01]\n"
          ]
        }
      ],
      "source": [
        "my_array = ## Your code here\n",
        "print(np.max(my_array), np.min(my_array))\n",
        "print(my_array)"
      ]
    },
    {
      "cell_type": "markdown",
      "metadata": {
        "id": "D84Jpwmmc0je"
      },
      "source": [
        "Создайте array размером $5 \\times 6$ с целыми числами в интервале [0,50]. Напечатайте колонку, которая содержит максимальный элемент полученной матрицы"
      ]
    },
    {
      "cell_type": "code",
      "execution_count": null,
      "metadata": {
        "id": "SXaKW9bec0je"
      },
      "outputs": [],
      "source": [
        "my_array = ## Your code here\n",
        "selected_column = ## Your code here\n",
        "print('Shape: ',my_array.shape)\n",
        "print('Array')\n",
        "print(my_array)\n",
        "print(selected_column)"
      ]
    },
    {
      "cell_type": "markdown",
      "metadata": {
        "id": "g3scUf0_c0je"
      },
      "source": [
        "Напишите функцию, которая принимает на вход матрицу (array) X и возвращает все её уникальные строки в виде новой матрицы."
      ]
    },
    {
      "cell_type": "code",
      "execution_count": null,
      "metadata": {
        "id": "75j1Kyzvc0je"
      },
      "outputs": [],
      "source": [
        "def get_unique_rows(X):\n",
        "    # Your code here\n",
        "    return X_unique"
      ]
    },
    {
      "cell_type": "code",
      "execution_count": null,
      "metadata": {
        "id": "HzY-9KwGc0je"
      },
      "outputs": [],
      "source": [
        "X = np.random.randint(4, 6, size=(10,3))\n",
        "print(X)"
      ]
    },
    {
      "cell_type": "code",
      "execution_count": null,
      "metadata": {
        "id": "UiAM62AGc0jf"
      },
      "outputs": [],
      "source": [
        "get_unique_rows(X)"
      ]
    }
  ],
  "metadata": {
    "colab": {
      "provenance": []
    },
    "kernelspec": {
      "display_name": ".venv",
      "language": "python",
      "name": "python3"
    },
    "language_info": {
      "codemirror_mode": {
        "name": "ipython",
        "version": 3
      },
      "file_extension": ".py",
      "mimetype": "text/x-python",
      "name": "python",
      "nbconvert_exporter": "python",
      "pygments_lexer": "ipython3",
      "version": "3.12.3"
    },
    "varInspector": {
      "cols": {
        "lenName": 16,
        "lenType": 16,
        "lenVar": 40
      },
      "kernels_config": {
        "python": {
          "delete_cmd_postfix": "",
          "delete_cmd_prefix": "del ",
          "library": "var_list.py",
          "varRefreshCmd": "print(var_dic_list())"
        },
        "r": {
          "delete_cmd_postfix": ") ",
          "delete_cmd_prefix": "rm(",
          "library": "var_list.r",
          "varRefreshCmd": "cat(var_dic_list()) "
        }
      },
      "types_to_exclude": [
        "module",
        "function",
        "builtin_function_or_method",
        "instance",
        "_Feature"
      ],
      "window_display": false
    }
  },
  "nbformat": 4,
  "nbformat_minor": 0
}
