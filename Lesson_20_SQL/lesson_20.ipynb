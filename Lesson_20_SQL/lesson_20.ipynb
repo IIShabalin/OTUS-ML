{
 "cells": [
  {
   "cell_type": "markdown",
   "metadata": {},
   "source": [
    "### Обзор про базы данных, SQL и теорию множеств. Таблицы, представления, простые выборки\n",
    "\n",
    "- DDL = Data Definition Language\n",
    "  - определение структуры данных\n",
    "- DML = Data Manipulation Language\n",
    "  - добавление, обновление, удаление данных\n",
    "- DCL = Data Control Language\n",
    "  - выдача или отзыв прав\n",
    "- DQL = data query language\n",
    "  - запрос данных\n",
    "\n",
    "*Интересный факт*: выражения в `SELECT` выполняются последними (но до `LIMIT`)."
   ]
  }
 ],
 "metadata": {
  "language_info": {
   "name": "python"
  }
 },
 "nbformat": 4,
 "nbformat_minor": 2
}
