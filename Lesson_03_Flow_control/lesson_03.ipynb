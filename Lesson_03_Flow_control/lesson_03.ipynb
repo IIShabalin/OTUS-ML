{
 "cells": [
  {
   "cell_type": "markdown",
   "metadata": {},
   "source": [
    "### Управление потоком\n",
    "\n",
    "- познакомиться с условным оператором IF;\n",
    "- познакомиться с циклом WHILE и особенностями его работы;\n",
    "- познакомиться с циклом FOR и особенностями его работы;\n",
    "- познакомиться с операторами break и continue;\n",
    "- познакомиться c классами range и enumerate."
   ]
  },
  {
   "cell_type": "markdown",
   "metadata": {},
   "source": [
    "#### while + else"
   ]
  },
  {
   "cell_type": "code",
   "execution_count": null,
   "metadata": {},
   "outputs": [],
   "source": [
    "condition = True\n",
    "while condition:\n",
    "    pass\n",
    "else:\n",
    "    print('Exited on while condition false')"
   ]
  },
  {
   "cell_type": "markdown",
   "metadata": {},
   "source": [
    "#### range"
   ]
  },
  {
   "cell_type": "code",
   "execution_count": null,
   "metadata": {},
   "outputs": [],
   "source": []
  },
  {
   "cell_type": "markdown",
   "metadata": {},
   "source": [
    "#### enumerate"
   ]
  },
  {
   "cell_type": "code",
   "execution_count": 7,
   "metadata": {},
   "outputs": [
    {
     "name": "stdout",
     "output_type": "stream",
     "text": [
      "(100, 3)\n",
      "(101, 6)\n",
      "(102, 7)\n",
      "100: 3\n",
      "101: 6\n",
      "102: 7\n"
     ]
    }
   ],
   "source": [
    "my_list = [3, 6, 7]\n",
    "\n",
    "for item in enumerate(my_list, 100):\n",
    "    print(item)\n",
    "\n",
    "for index, item in enumerate(my_list, 100):\n",
    "    print(f'{index}: {item}')"
   ]
  }
 ],
 "metadata": {
  "kernelspec": {
   "display_name": "Python 3",
   "language": "python",
   "name": "python3"
  },
  "language_info": {
   "codemirror_mode": {
    "name": "ipython",
    "version": 3
   },
   "file_extension": ".py",
   "mimetype": "text/x-python",
   "name": "python",
   "nbconvert_exporter": "python",
   "pygments_lexer": "ipython3",
   "version": "3.12.3"
  }
 },
 "nbformat": 4,
 "nbformat_minor": 2
}
