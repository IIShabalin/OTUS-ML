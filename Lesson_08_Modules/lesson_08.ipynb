{
 "cells": [
  {
   "cell_type": "markdown",
   "metadata": {},
   "source": [
    "### Модули"
   ]
  },
  {
   "cell_type": "markdown",
   "metadata": {},
   "source": [
    "Иерархия:\n",
    "\n",
    "- фреймворк\n",
    "  - библиотека (устанавливается через `pip`)\n",
    "    - пакет\n",
    "      - модуль\n",
    "\n",
    "Стандарт на импорты: `PEP-8`\n",
    "\n",
    "Алиасы импортов: `as`"
   ]
  },
  {
   "cell_type": "markdown",
   "metadata": {},
   "source": [
    "##### Пакет\n",
    "\n",
    "Папка с файлом `__init__.py` -- инициализация пакета.\n",
    "Может быть пустым.\n",
    "\n",
    "Может содержать другие пакеты.  \n",
    "\n",
    "Может содержать файл `__main__.py` - точка входа в приложение.\n",
    "\n",
    "\n",
    "Пример импорта:\n",
    "```python\n",
    "import module0\n",
    "import module10 as m10\n",
    "\n",
    "from my_package import module1\n",
    "from my_package import module11 as m11\n",
    "\n",
    "from my_package.subpackage import modyle3\n",
    "```\n",
    "\n",
    "Условие для приватного кода пакета:\n",
    "\n",
    "```python\n",
    "    if __name__ == '__main__':\n",
    "        pass\n",
    "```"
   ]
  },
  {
   "cell_type": "markdown",
   "metadata": {},
   "source": [
    "##### Библиотека `importlib`\n",
    "\n",
    "Управление библиотеками, кэшированием."
   ]
  }
 ],
 "metadata": {
  "language_info": {
   "name": "python"
  }
 },
 "nbformat": 4,
 "nbformat_minor": 2
}
