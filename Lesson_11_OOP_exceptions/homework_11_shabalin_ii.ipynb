{
 "cells": [
  {
   "cell_type": "markdown",
   "metadata": {},
   "source": [
    "### ООП - продвинутый, исключения\n",
    "\n",
    "**Цель:**\n",
    "В этом ДЗ вы напишете базовый класс и сделаете наследников, которые будут реализовывать различные методы.\n",
    "\n",
    "\n",
    "**Описание/Пошаговая инструкция выполнения домашнего задания:**\n",
    "- Скопируйте прикрепленный к уроку архив homework_06 для этой домашки.\n",
    "- В модуле exceptions объявите следующие исключения:\n",
    "    - LowFuelError\n",
    "    - NotEnoughFuel\n",
    "    - CargoOverload\n",
    "- Доработайте базовый класс base.Vehicle:\n",
    "    - Добавьте атрибуты weight, started, fuel, fuel_consumption со значениями по умолчанию.\n",
    "    - Добавьте инициализатор для установки weight, fuel, fuel_consumption.\n",
    "    - Добавьте метод start, который, если ещё не состояние started, проверяет, что топлива больше нуля, и обновляет состояние started, иначе выкидывает исключение exceptions.LowFuelError.\n",
    "    - Добавьте метод move, который проверяет, что достаточно топлива для преодоления переданной дистанции, и изменяет количество оставшегося топлива, иначе выкидывает исключение exceptions.NotEnoughFuel.\n",
    "\n",
    "- Создайте дата-класс Engine в модуле engine, добавьте атрибуты volume и pistons.\n",
    "- В модуле car создайте класс Car:\n",
    "    - Класс Car должен быть наследником Vehicle.\n",
    "    - Добавьте атрибут engine классу Car.\n",
    "    - Объявите метод set_engine, который принимает в себя экземпляр объекта Engine и устанавливает на текущий экземпляр Car.\n",
    "- В модуле plane создайте класс Plane:\n",
    "    - Класс Plane должен быть наследником Vehicle.\n",
    "    - Добавьте атрибуты cargo и max_cargo классу Plane.\n",
    "    - Добавьте max_cargo в инициализатор (переопределите родительский).\n",
    "    - Объявите метод load_cargo, который принимает число, проверяет, что в сумме с текущим cargo не будет перегруза, и обновляет значение, в ином случае выкидывает исключение exceptions.CargoOverload.\n",
    "    - Объявите метод remove_all_cargo, который обнуляет значение cargo и возвращает значение cargo, которое было до обнуления."
   ]
  },
  {
   "cell_type": "code",
   "execution_count": null,
   "metadata": {},
   "outputs": [],
   "source": [
    "from homework_06.base import Vehicle\n",
    "\n",
    "vehicle = Vehicle()\n",
    "vehicle.start()\n",
    "vehicle.move(2)"
   ]
  },
  {
   "cell_type": "code",
   "execution_count": null,
   "metadata": {},
   "outputs": [],
   "source": [
    "from homework_06.car import Car\n",
    "from homework_06.engine import Engine\n",
    "\n",
    "car_engine_powerfull = Engine(3.5, 4)\n",
    "toyota_camry = Car(car_engine_powerfull, fuel_consumption=15)\n",
    "toyota_camry.start()\n",
    "toyota_camry.move(3)\n",
    "\n",
    "car_engine_light = Engine(1.3, 3)\n",
    "toyota_camry.set_engine(car_engine_light)\n",
    "toyota_camry.configure(fuel_consumption=6)"
   ]
  },
  {
   "cell_type": "code",
   "execution_count": null,
   "metadata": {},
   "outputs": [],
   "source": [
    "from homework_06.plane import Plane\n",
    "\n",
    "plane = Plane(3000, weight=10000, fuel=1000, fuel_consumption=100)\n",
    "plane.load_cargo(1400)\n",
    "plane.start()\n",
    "plane.move(100)\n",
    "old_cargo = plane.remove_all_cargo()"
   ]
  }
 ],
 "metadata": {
  "kernelspec": {
   "display_name": ".venv",
   "language": "python",
   "name": "python3"
  },
  "language_info": {
   "name": "python",
   "version": "3.12.3"
  }
 },
 "nbformat": 4,
 "nbformat_minor": 2
}
