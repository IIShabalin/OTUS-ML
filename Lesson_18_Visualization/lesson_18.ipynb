{
 "cells": [
  {
   "cell_type": "markdown",
   "metadata": {},
   "source": [
    "### Визуализация\n",
    "\n",
    "Библиотеки:\n",
    "- Pandas (минимум)\n",
    "- Plotly (\"красиво\")\n",
    "- Matplotlib (\"кондовая\")\n",
    "\n",
    "Зачем:\n",
    "- EDA = Exploratory Data Analysis = Разведочный анализ данных\n",
    "- Мониторинг качества\n",
    "- Помощь в принятии решений\n"
   ]
  }
 ],
 "metadata": {
  "language_info": {
   "name": "python"
  }
 },
 "nbformat": 4,
 "nbformat_minor": 2
}
