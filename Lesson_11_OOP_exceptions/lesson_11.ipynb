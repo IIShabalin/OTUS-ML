{
 "cells": [
  {
   "cell_type": "markdown",
   "metadata": {},
   "source": [
    "### ООП - продвинутый, исключения\n",
    "\n",
    "\n",
    "#### Методы, специфичные для классов\n",
    "\n",
    "`@staticmethod` - декоратор в Python, превращает обычный метод класса в статический метод. Не принимают параметр `self`.\n",
    "\n",
    "`@classmethod` - декоратор в Python, создаёт метод с доступом к Классу и его глобальным атрибутам (которые похожи на `static`). Принимает параметр с классом, обычно называется `cls`. Позволяет вызывать, например, конструкторы или статические методы. Позволяет реализовать полиморфное поведение.\n",
    "\n",
    "`@property` - декоратор, который определяет метод, вызываемый при обращении к атрибуту. Аналог `@Getter`.  \n",
    "Объявление `@Setter`: `@<property-name>.setter`\n",
    "\n",
    "#### Исключения\n",
    "\n",
    "`BaseException` - базовый класс для всех исключений.  \n",
    "`Exception` - базовый класс для большинства обычных исключений.\n",
    "\n",
    "Выкидывание исключений: `raise`\n",
    "\n",
    "Обработка исключений: `try-except`\n"
   ]
  },
  {
   "cell_type": "code",
   "execution_count": null,
   "metadata": {},
   "outputs": [],
   "source": [
    "try:\n",
    "    pass\n",
    "except ZeroDivisionError:\n",
    "    print('ZeroDivisionException')\n",
    "except (KeyError, KeyboardInterrupt):\n",
    "    print('Keyboard Exception')\n",
    "except SystemError as se:\n",
    "    print(f'{se}')\n",
    "else:\n",
    "    pass # выполняется, когда не возникло исключений\n",
    "finally:\n",
    "    pass"
   ]
  }
 ],
 "metadata": {
  "language_info": {
   "name": "python"
  }
 },
 "nbformat": 4,
 "nbformat_minor": 2
}
