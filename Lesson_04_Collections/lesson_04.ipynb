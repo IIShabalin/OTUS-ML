{
 "cells": [
  {
   "cell_type": "markdown",
   "metadata": {},
   "source": [
    "### Коллекции\n",
    "\n",
    "- список, list() (объект)\n",
    "  - [1, 2, 3]\n",
    "- пара, tuple()\n",
    "- словарь, dict()\n",
    "- множество, set()\n",
    "- срез, slice()\n",
    "  - [2:3]\n",
    "  - [2:]\n",
    "  - [:3]\n",
    "  - [:] -- возьмёт весь список, делает копию\n",
    "\n",
    "Неизменяемые типы:\n",
    "- int\n",
    "- float\n",
    "- bool\n",
    "- str\n",
    "- кортеж, tuple\n",
    "  - как список, только неизменяемый\n",
    "\n",
    "Изменяемые типы:\n",
    "- list\n",
    "- dict\n",
    "- set\n"
   ]
  },
  {
   "cell_type": "markdown",
   "metadata": {},
   "source": [
    "##### List comprehension"
   ]
  },
  {
   "cell_type": "code",
   "execution_count": null,
   "metadata": {},
   "outputs": [],
   "source": [
    "zoo = ['cat', 'hippo', 'bear']\n",
    "numbers = [_x[0] for _x in zoo if _x[0] != 'b']"
   ]
  },
  {
   "cell_type": "markdown",
   "metadata": {},
   "source": [
    "##### Tuple"
   ]
  },
  {
   "cell_type": "code",
   "execution_count": null,
   "metadata": {},
   "outputs": [],
   "source": [
    "t = (1, 3, 7)"
   ]
  },
  {
   "cell_type": "markdown",
   "metadata": {},
   "source": [
    "##### Dict\n",
    "\n",
    "- Ключами не могут быть изменяемые объекты\n",
    "- Ключом может быть tuple, str"
   ]
  },
  {
   "cell_type": "code",
   "execution_count": null,
   "metadata": {},
   "outputs": [],
   "source": [
    "bar = {\n",
    "    'ivanov': 300,\n",
    "    'petrov': 400,\n",
    "    'sidorov': 100\n",
    "}"
   ]
  }
 ],
 "metadata": {
  "language_info": {
   "name": "python"
  }
 },
 "nbformat": 4,
 "nbformat_minor": 2
}
