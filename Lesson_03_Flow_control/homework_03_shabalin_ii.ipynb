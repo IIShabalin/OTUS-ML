{
 "cells": [
  {
   "cell_type": "markdown",
   "metadata": {},
   "source": [
    "##### 1) Пользователь вводит целое число, программа складывает все цифры числа, с полученным числом — то же самое, и так до тех пор, пока не получится однозначное число."
   ]
  },
  {
   "cell_type": "code",
   "execution_count": 6,
   "metadata": {},
   "outputs": [
    {
     "name": "stdout",
     "output_type": "stream",
     "text": [
      "753 -> 6\n"
     ]
    }
   ],
   "source": [
    "number = input('Введите число: ')\n",
    "\n",
    "wrapped_number = number\n",
    "while len(wrapped_number) > 1:\n",
    "    next_number = 0\n",
    "    for digit in wrapped_number:\n",
    "        next_number += int(digit)\n",
    "    wrapped_number = str(next_number)\n",
    "\n",
    "print(f'{number} -> {wrapped_number}')"
   ]
  },
  {
   "cell_type": "markdown",
   "metadata": {},
   "source": [
    "##### 2) Кинотеатр. Дан список списков, каждый вложенный список состоит из 1 и 0, количество вложенных списков — количество рядов. Пользователь вводит, сколько билетов ему требуется. Программа должна найти ряд, где можно приобрести нужное количество билетов (места должны быть рядом). Если таких рядов несколько, то ближайший к экрану (ближайшим считается нулевой ряд). Если таких мест нет, то вывести False."
   ]
  },
  {
   "cell_type": "code",
   "execution_count": 46,
   "metadata": {},
   "outputs": [
    {
     "name": "stdout",
     "output_type": "stream",
     "text": [
      "[[1, 0, 1, 0], [0, 1, 0, 0], [0, 0, 0, 0]] -> Ряд для 5 мест(а): False\n"
     ]
    }
   ],
   "source": [
    "SEATS = [\n",
    "\n",
    "    # case 1\n",
    "    # [0, 1, 1, 0],\n",
    "    # [1, 0, 0, 0],\n",
    "    # [0, 1, 0, 0]\n",
    "\n",
    "    # case 2\n",
    "    # [0, 1, 1, 0],\n",
    "    # [1, 0, 1, 0],\n",
    "    # [1, 1, 0, 1]\n",
    "\n",
    "    # case 3\n",
    "    [1, 0, 1, 0],\n",
    "    [0, 1, 0, 0],\n",
    "    [0, 0, 0, 0]\n",
    "]\n",
    "\n",
    "seats_number = int(input('Введите число мест: '))\n",
    "seat_row = False\n",
    "for row_index, row in enumerate(SEATS):\n",
    "    if seats_number <= len(row):\n",
    "        free_seats = 0\n",
    "        for seat in row:\n",
    "            if seat > 0:\n",
    "                free_seats = 0\n",
    "            else:\n",
    "                free_seats += 1\n",
    "            if free_seats >= seats_number:\n",
    "                break\n",
    "        if free_seats >= seats_number:\n",
    "            seat_row = row_index\n",
    "            break\n",
    "\n",
    "print(f'{SEATS} -> Ряд для {seats_number} мест(а): {seat_row}')"
   ]
  },
  {
   "cell_type": "markdown",
   "metadata": {},
   "source": [
    "##### 3) Написать упрощенную версию алгоритма RLE. Алгоритм RLE объединяет подряд идущие символы в коэффициент и символ."
   ]
  },
  {
   "cell_type": "code",
   "execution_count": 14,
   "metadata": {},
   "outputs": [
    {
     "name": "stdout",
     "output_type": "stream",
     "text": [
      "Сжатые данные: 1a3s3d3s3d\n"
     ]
    }
   ],
   "source": [
    "data = input('Введите данные: ')\n",
    "\n",
    "compressed_data = \"\"\n",
    "last_symbol = None\n",
    "repeats = 0\n",
    "last_suffix = \"\"\n",
    "for symbol in data:\n",
    "    if last_symbol == None:\n",
    "        last_symbol = symbol\n",
    "        repeats = 1\n",
    "    elif symbol == last_symbol:\n",
    "        repeats += 1\n",
    "    else:\n",
    "        compressed_data += last_suffix\n",
    "        last_symbol = symbol\n",
    "        repeats = 1\n",
    "    last_suffix = str(repeats) + last_symbol\n",
    "compressed_data += last_suffix\n",
    "\n",
    "print(f'Сжатые данные: {compressed_data}')"
   ]
  },
  {
   "cell_type": "markdown",
   "metadata": {},
   "source": [
    "##### 4) Шифр Цезаря. Пользователь вводит строку и ключ шифра, программа должна вывести зашифрованную строку (со сдвигом по ключу). Сдвиг циклический. Используем только латинский алфавит, пробелы не шифруются."
   ]
  },
  {
   "cell_type": "code",
   "execution_count": 10,
   "metadata": {},
   "outputs": [
    {
     "name": "stdout",
     "output_type": "stream",
     "text": [
      "Сообщение, закодированное шифром Цезаря: DEF\n"
     ]
    }
   ],
   "source": [
    "import string\n",
    "\n",
    "LOWER = string.ascii_lowercase\n",
    "UPPER = string.ascii_uppercase\n",
    "\n",
    "message = input('Введите сообщение: ')\n",
    "key = int(input('Введите целочисленный ключ: '))\n",
    "\n",
    "encoded_message = \"\"\n",
    "for symbol in message:\n",
    "    l_pos = LOWER.find(symbol)\n",
    "    if l_pos >= 0:\n",
    "        encoded_message += LOWER[(l_pos + key) % len(LOWER)]\n",
    "    u_pos = UPPER.find(symbol)\n",
    "    if u_pos >= 0:\n",
    "        encoded_message += UPPER[(u_pos + key) % len(UPPER)]\n",
    "\n",
    "print(f'Сообщение, закодированное шифром Цезаря: {encoded_message}')"
   ]
  },
  {
   "cell_type": "markdown",
   "metadata": {},
   "source": [
    "##### 5) Табель успеваемости. Пользователь в бесконечном цикле (пока не будет введена пустая строка) вводит строки вида: 'название предмета' 'фамилия ученика' 'оценка'. После окончания ввода программа выводит в консоль название предмета, далее список учеников и все их оценки в виде таблицы."
   ]
  },
  {
   "cell_type": "code",
   "execution_count": 18,
   "metadata": {},
   "outputs": [
    {
     "name": "stdout",
     "output_type": "stream",
     "text": [
      "1) Математика\n",
      "Иванов: 5 4 \n",
      "Петров: 5 5 \n",
      "Сидоров: 3 \n",
      "\n",
      "2) Литература\n",
      "Иванов: 3 4 \n",
      "Сидоров: 3 \n",
      "Петров: 5 \n",
      "\n"
     ]
    }
   ],
   "source": [
    "table = dict()\n",
    "\n",
    "while True:\n",
    "    record_string = input('Введите запись табеля: ')\n",
    "    if record_string == '' or record_string == None:\n",
    "        break\n",
    "    record = record_string.split()\n",
    "    if len(record) != 3:\n",
    "        continue\n",
    "    subject = record[0]\n",
    "    name = record[1]\n",
    "    mark = record[2]\n",
    "    if not subject in table:\n",
    "        table[subject] = dict()\n",
    "    if not name in table[subject]:\n",
    "        table[subject][name] = list()\n",
    "    table[subject][name].append(mark)\n",
    "\n",
    "for index, subject in enumerate(table):\n",
    "    print(f'{index+1}) {subject}')\n",
    "    for name in table[subject]:\n",
    "        print(f'{name}: ', end='')\n",
    "        for mark in table[subject][name]:\n",
    "            print(f'{mark} ', end='')\n",
    "        print()\n",
    "    print()"
   ]
  }
 ],
 "metadata": {
  "kernelspec": {
   "display_name": "Python 3",
   "language": "python",
   "name": "python3"
  },
  "language_info": {
   "codemirror_mode": {
    "name": "ipython",
    "version": 3
   },
   "file_extension": ".py",
   "mimetype": "text/x-python",
   "name": "python",
   "nbconvert_exporter": "python",
   "pygments_lexer": "ipython3",
   "version": "3.12.3"
  }
 },
 "nbformat": 4,
 "nbformat_minor": 2
}
